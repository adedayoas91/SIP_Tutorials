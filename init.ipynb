{
 "cells": [
  {
   "cell_type": "markdown",
   "id": "9341ea15",
   "metadata": {},
   "source": [
    "## Initialization Notebook\n",
    "\n",
    "This is your initialization notebook.\n",
    "\n",
    "#### What's this for?\n",
    "\n",
    "You can put custom code you want us to run every time we setup your environment in here.\n",
    "\n",
    "#### Awesome! Anything I should not put in here?\n",
    "\n",
    "Please don't install `jupyter` or `jedi` packages, they would break your Deepnote environment. Also, no need to put `!pip installs` here, we already save those automatically!\n",
    "\n",
    "I want to learn more!\n",
    "\n",
    "Great! Just head over to the tutorial notebook."
   ]
  },
  {
   "cell_type": "code",
   "execution_count": 1,
   "id": "ed739a5f",
   "metadata": {},
   "outputs": [
    {
     "name": "stdout",
     "output_type": "stream",
     "text": [
      "Requirement already satisfied: numpy in /Users/sadiqadedayo/opt/anaconda3/lib/python3.9/site-packages (from -r ./requirements.txt (line 1)) (1.21.5)\n",
      "Requirement already satisfied: matplotlib in /Users/sadiqadedayo/opt/anaconda3/lib/python3.9/site-packages (from -r ./requirements.txt (line 2)) (3.5.2)\n",
      "Requirement already satisfied: kiwisolver>=1.0.1 in /Users/sadiqadedayo/opt/anaconda3/lib/python3.9/site-packages (from matplotlib->-r ./requirements.txt (line 2)) (1.4.2)\n",
      "Requirement already satisfied: pillow>=6.2.0 in /Users/sadiqadedayo/opt/anaconda3/lib/python3.9/site-packages (from matplotlib->-r ./requirements.txt (line 2)) (9.2.0)\n",
      "Requirement already satisfied: packaging>=20.0 in /Users/sadiqadedayo/opt/anaconda3/lib/python3.9/site-packages (from matplotlib->-r ./requirements.txt (line 2)) (21.3)\n",
      "Requirement already satisfied: pyparsing>=2.2.1 in /Users/sadiqadedayo/opt/anaconda3/lib/python3.9/site-packages (from matplotlib->-r ./requirements.txt (line 2)) (3.0.9)\n",
      "Requirement already satisfied: cycler>=0.10 in /Users/sadiqadedayo/opt/anaconda3/lib/python3.9/site-packages (from matplotlib->-r ./requirements.txt (line 2)) (0.11.0)\n",
      "Requirement already satisfied: python-dateutil>=2.7 in /Users/sadiqadedayo/opt/anaconda3/lib/python3.9/site-packages (from matplotlib->-r ./requirements.txt (line 2)) (2.8.2)\n",
      "Requirement already satisfied: fonttools>=4.22.0 in /Users/sadiqadedayo/opt/anaconda3/lib/python3.9/site-packages (from matplotlib->-r ./requirements.txt (line 2)) (4.25.0)\n",
      "Requirement already satisfied: six>=1.5 in /Users/sadiqadedayo/opt/anaconda3/lib/python3.9/site-packages (from python-dateutil>=2.7->matplotlib->-r ./requirements.txt (line 2)) (1.16.0)\n"
     ]
    },
    {
     "name": "stderr",
     "output_type": "stream",
     "text": [
      "sed: 1: \"./requirements.txt\": invalid command code .\n"
     ]
    }
   ],
   "source": [
    "%%bash\n",
    "# If your project has a 'requirements.txt' file, we'll install it here apart from blacklisted packages that interfere with Deepnote (see above).\n",
    "if test -f requirements.txt\n",
    "  then\n",
    "    sed -i '/jedi/d;/jupyter/d;' ./requirements.txt\n",
    "    pip install -r ./requirements.txt\n",
    "  else echo \"There's no requirements.txt, so nothing to install. This is the case with most projects.\"\n",
    "fi"
   ]
  }
 ],
 "metadata": {
  "kernelspec": {
   "display_name": "Python 3 (ipykernel)",
   "language": "python",
   "name": "python3"
  },
  "language_info": {
   "codemirror_mode": {
    "name": "ipython",
    "version": 3
   },
   "file_extension": ".py",
   "mimetype": "text/x-python",
   "name": "python",
   "nbconvert_exporter": "python",
   "pygments_lexer": "ipython3",
   "version": "3.9.13"
  }
 },
 "nbformat": 4,
 "nbformat_minor": 5
}
