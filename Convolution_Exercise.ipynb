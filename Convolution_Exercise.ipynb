{
 "cells": [
  {
   "cell_type": "markdown",
   "metadata": {
    "pycharm": {
     "name": "#%% md\n"
    }
   },
   "source": [
    "# CONVOLUTION"
   ]
  },
  {
   "cell_type": "markdown",
   "metadata": {
    "pycharm": {
     "name": "#%% md\n"
    }
   },
   "source": [
    "# 1a) Convolution\n",
    "Four different implementations of circular convolution are introduced.\n",
    "\n",
    "### Simple Linear Convolution\n",
    "For simplicity, we first define simple linear convolution functions.  \n",
    "These functions will be used in the final four implementations."
   ]
  },
  {
   "cell_type": "code",
   "execution_count": 2,
   "outputs": [],
   "source": [
    "import numpy as np\n",
    "import matplotlib.pyplot as plt"
   ],
   "metadata": {
    "collapsed": false,
    "pycharm": {
     "name": "#%%\n"
    }
   }
  },
  {
   "cell_type": "code",
   "execution_count": null,
   "metadata": {
    "pycharm": {
     "name": "#%%\n"
    }
   },
   "outputs": [],
   "source": [
    "# circular convolution both temporal and circular\n",
    "\n",
    "def circ_conv(x, h, domain):\n",
    "    def circ_conv(x, h):\n",
    "        r = np.zeros(N)\n",
    "        for i in range(N):\n",
    "            for j in range(i, i + N):\n",
    "                r[j % N] += h[i] * x[j - i]\n",
    "        return r\n",
    "    \n",
    "    def circ_CONV(x, h):\n",
    "        return idft(dft(x) * dft(h))\n",
    "\n",
    "    N = max(len(x), len(h))\n",
    "    x_ = np.concatenate((x, np.array([0]*(N - len(x)))))\n",
    "    h_ = np.concatenate((h, np.array([0]*(N - len(h)))))\n",
    "    if domain == 'temporal':\n",
    "        return circ_conv(x_, h_)\n",
    "    elif domain == 'spectral':\n",
    "        return circ_CONV(x_, h_)"
   ]
  },
  {
   "cell_type": "code",
   "execution_count": null,
   "metadata": {
    "pycharm": {
     "name": "#%%\n"
    }
   },
   "outputs": [],
   "source": [
    "def circ_conv(x,h):\n",
    "    #circular convolution in time domain\n",
    "    #period \n",
    "    N = max(len(x),len(h))\n",
    "    #append 0's if signals are of different length\n",
    "    if len(x) > len(h):\n",
    "        for i in range(0,(len(x)-len(h))):\n",
    "            h = h.append(0)\n",
    "    elif len(x) > len(h):\n",
    "        x = x.append(0)*(len(h)-len(x))\n",
    "    y = []\n",
    "    #apply formular given in extra pdf\n",
    "    for n in range(0,N):\n",
    "        sum_ = 0\n",
    "        for m in range(0,N-1):\n",
    "            sum_ += x[m]* h[(n-m)%N]\n",
    "        y.append(sum_)\n",
    "    return y"
   ]
  },
  {
   "cell_type": "code",
   "execution_count": 3,
   "metadata": {
    "pycharm": {
     "name": "#%%\n"
    }
   },
   "outputs": [],
   "source": [
    "def convolve(x, h, start, length):\n",
    "    # create initial y output\n",
    "    y = [0] * length;\n",
    "\n",
    "    # calculate output\n",
    "    for yKey in range(start, (start + length)):\n",
    "        yOut = 0;\n",
    "\n",
    "        # multiply x*h and add to product\n",
    "        for xKey in range(len(x)):\n",
    "            hKey = yKey - xKey;\n",
    "            if hKey >= 0 and hKey < len(h):\n",
    "                #print(f\"{yKey}: {xKey} - {hKey}\");\n",
    "                yOut += x[xKey] * h[hKey];\n",
    "\n",
    "        # set y\n",
    "        y[yKey - start] = yOut;\n",
    "\n",
    "    # return y\n",
    "    return y;\n",
    "\n",
    "def convolve_linear(x, h, overlap=False):\n",
    "\n",
    "    # calculate the final maximum length\n",
    "    if overlap:\n",
    "        start = min(len(x),len(h)) - 1;\n",
    "        length = max(len(x),len(h)) - min(len(x),len(h)) + 1;\n",
    "\n",
    "    else:\n",
    "        start = 0;\n",
    "        length = len(x) + len(h) - 1;\n",
    "\n",
    "    #print(f\"length: {length}, start: {start}\");\n",
    "\n",
    "    return convolve(x, h, start, length);"
   ]
  },
  {
   "cell_type": "markdown",
   "metadata": {
    "pycharm": {
     "name": "#%% md\n"
    }
   },
   "source": [
    "### Circular Convolution By Multiplying Fourier Transform"
   ]
  },
  {
   "cell_type": "code",
   "execution_count": 4,
   "metadata": {
    "pycharm": {
     "name": "#%%\n"
    }
   },
   "outputs": [],
   "source": [
    "def convolve_fft(x, h, overlap=False, periodic=False):\n",
    "\n",
    "    if periodic:\n",
    "        # Make x & h the same length\n",
    "        if len(x) > len(h):\n",
    "            h = np.append(h, [0] * (len(x)-len(h)));\n",
    "        elif len(h) > len(x):\n",
    "            x = np.append(x, [0] * (len(h)-len(x)));\n",
    "\n",
    "        y = np.fft.ifft( np.fft.fft(x)*np.fft.fft(h) );\n",
    "        y = np.real(y);\n",
    "        y = np.round(y, 2);\n",
    "        return y;\n",
    "\n",
    "    else:\n",
    "        return convolve_linear(x, h, overlap);"
   ]
  },
  {
   "cell_type": "markdown",
   "metadata": {
    "pycharm": {
     "name": "#%% md\n"
    }
   },
   "source": [
    "### Circular Convolution By Matrix Multiplication"
   ]
  },
  {
   "cell_type": "code",
   "execution_count": 5,
   "metadata": {
    "pycharm": {
     "name": "#%%\n"
    }
   },
   "outputs": [],
   "source": [
    "def convolve_matrix(x, h, overlap=False, periodic=False):\n",
    "\n",
    "    if periodic:\n",
    "        # Make x & h the same length\n",
    "        if len(x) > len(h):\n",
    "            h = np.append(h, [0] * (len(x)-len(h)));\n",
    "        elif len(h) > len(x):\n",
    "            x = np.append(x, [0] * (len(h)-len(x)));\n",
    "\n",
    "        N = len(x);\n",
    "        buffer = np.empty((N, N*2));\n",
    "        buffer[:,:N] = x;\n",
    "        buffer[:,N:] = x[:N];\n",
    "\n",
    "        matrix = np.ndarray((N,N));\n",
    "        for i in range(N):\n",
    "            matrix[i] = buffer[i][N-i:N*2-i];\n",
    "\n",
    "        #print(matrix);\n",
    "\n",
    "        y = np.dot(h, matrix);\n",
    "        return y;\n",
    "\n",
    "    else:\n",
    "        return convolve_linear(x, h, overlap);"
   ]
  },
  {
   "cell_type": "markdown",
   "metadata": {
    "pycharm": {
     "name": "#%% md\n"
    }
   },
   "source": [
    "### Circular Convolution By Extension"
   ]
  },
  {
   "cell_type": "code",
   "execution_count": 6,
   "metadata": {
    "pycharm": {
     "name": "#%%\n"
    }
   },
   "outputs": [],
   "source": [
    "def convolve_extend(x, h, overlap=False, periodic=False):\n",
    "\n",
    "    if periodic:\n",
    "        # Make x & h the same length\n",
    "        if len(x) > len(h):\n",
    "            h = np.append(h, [0] * (len(x)-len(h)));\n",
    "        elif len(h) > len(x):\n",
    "            x = np.append(x, [0] * (len(h)-len(x)));\n",
    "\n",
    "        h = np.concatenate((h,h));\n",
    "        start = len(x);\n",
    "        length = len(x);\n",
    "\n",
    "        return convolve(x, h, start, length);\n",
    "\n",
    "    else:\n",
    "        return convolve_linear(x, h, overlap);"
   ]
  },
  {
   "cell_type": "markdown",
   "metadata": {
    "pycharm": {
     "name": "#%% md\n"
    }
   },
   "source": [
    "### Circular Convolution By Addition (Modulo)"
   ]
  },
  {
   "cell_type": "code",
   "execution_count": 7,
   "metadata": {
    "pycharm": {
     "name": "#%%\n"
    }
   },
   "outputs": [],
   "source": [
    "def convolve_add(x, h, overlap=False, periodic=False):\n",
    "\n",
    "    if periodic:\n",
    "        # Make x & h the same length\n",
    "        if len(x) > len(h):\n",
    "            h = np.append(h, [0] * (len(x)-len(h)));\n",
    "        elif len(h) > len(x):\n",
    "            x = np.append(x, [0] * (len(h)-len(x)));\n",
    "\n",
    "        yFull = convolve_linear(x, h, False);\n",
    "\n",
    "        y = [0] * len(x);\n",
    "        for k in range(len(yFull)):\n",
    "            y[k % len(x)] += yFull[k];\n",
    "\n",
    "        return y;\n",
    "\n",
    "    else:\n",
    "        return convolve_linear(x, h, overlap);"
   ]
  },
  {
   "cell_type": "markdown",
   "metadata": {
    "pycharm": {
     "name": "#%% md\n"
    }
   },
   "source": [
    "### Check Output Of Different Convolution Functions"
   ]
  },
  {
   "cell_type": "code",
   "execution_count": 8,
   "metadata": {
    "pycharm": {
     "name": "#%%\n"
    }
   },
   "outputs": [
    {
     "name": "stdout",
     "output_type": "stream",
     "text": [
      "Linear Convolution\n",
      "[ 1  2  5  8 11 14 17 20 23 26 18 20]\n",
      "[1, 2, 5, 8, 11, 14, 17, 20, 23, 26, 18, 20]\n",
      "[1, 2, 5, 8, 11, 14, 17, 20, 23, 26, 18, 20]\n",
      "[1, 2, 5, 8, 11, 14, 17, 20, 23, 26, 18, 20]\n",
      "[1, 2, 5, 8, 11, 14, 17, 20, 23, 26, 18, 20]\n",
      "Linear Convolution (Overlap)\n",
      "[ 5  8 11 14 17 20 23 26]\n",
      "[5, 8, 11, 14, 17, 20, 23, 26]\n",
      "[5, 8, 11, 14, 17, 20, 23, 26]\n",
      "[5, 8, 11, 14, 17, 20, 23, 26]\n",
      "[5, 8, 11, 14, 17, 20, 23, 26]\n",
      "Circular Convolution\n",
      "[19. 22.  5.  8. 11. 14. 17. 20. 23. 26.]\n",
      "[19. 22.  5.  8. 11. 14. 17. 20. 23. 26.]\n",
      "[19, 22, 5, 8, 11, 14, 17, 20, 23, 26]\n",
      "[19, 22, 5, 8, 11, 14, 17, 20, 23, 26]\n"
     ]
    }
   ],
   "source": [
    "x = [1,2,3,4,5,6,7,8,9,10];\n",
    "h = [1,0,2];\n",
    "\n",
    "print(\"Linear Convolution\");\n",
    "print(np.convolve(x,h,mode=\"full\"))\n",
    "print(convolve_fft(x,h,False,False))\n",
    "print(convolve_matrix(x,h,False,False))\n",
    "print(convolve_extend(x,h,False,False))\n",
    "print(convolve_add(x,h,False,False))\n",
    "\n",
    "print(\"Linear Convolution (Overlap)\");\n",
    "print(np.convolve(x,h,mode=\"valid\"))\n",
    "print(convolve_fft(x,h,True,False))\n",
    "print(convolve_matrix(x,h,True,False))\n",
    "print(convolve_extend(x,h,True,False))\n",
    "print(convolve_add(x,h,True,False))\n",
    "\n",
    "print(\"Circular Convolution\")\n",
    "print(convolve_fft(x,h,True,True))\n",
    "print(convolve_matrix(x,h,True,True))\n",
    "print(convolve_extend(h,x,True,True))\n",
    "print(convolve_add(x,h,True,True))"
   ]
  },
  {
   "cell_type": "code",
   "execution_count": null,
   "metadata": {
    "pycharm": {
     "name": "#%%\n"
    }
   },
   "outputs": [],
   "source": []
  },
  {
   "cell_type": "code",
   "execution_count": null,
   "metadata": {
    "pycharm": {
     "name": "#%%\n"
    }
   },
   "outputs": [],
   "source": [
    "# phase shift on ideal low pass filter\n",
    "\n",
    "def apply_linear_phase(M, H, phase):\n",
    "    H_new = np.zeros(M, dtype='complex')\n",
    "    H_new[:M//2] = H[:M//2] * np.exp(-1j * phase/(2*np.pi) * np.arange(M//2))\n",
    "    H_new[M//2+1:] = H[M//2+1:] * np.exp(-1j * phase/(2*np.pi) * np.arange(-M//2, -1))\n",
    "    return H_new"
   ]
  },
  {
   "cell_type": "code",
   "execution_count": null,
   "metadata": {
    "pycharm": {
     "name": "#%%\n"
    }
   },
   "outputs": [],
   "source": []
  },
  {
   "cell_type": "code",
   "execution_count": 3,
   "metadata": {
    "pycharm": {
     "name": "#%%\n"
    }
   },
   "outputs": [
    {
     "name": "stdout",
     "output_type": "stream",
     "text": [
      "64\n"
     ]
    }
   ],
   "source": [
    "def square(func):\n",
    "    def wrapper(a,b):\n",
    "        return func(a,b) *func(a,b)\n",
    "    return wrapper\n",
    "\n",
    "@square\n",
    "def add(a,b):\n",
    "    return a+b\n",
    "\n",
    "print(add(5,3))"
   ]
  },
  {
   "cell_type": "code",
   "execution_count": null,
   "metadata": {
    "pycharm": {
     "name": "#%%\n"
    }
   },
   "outputs": [],
   "source": []
  },
  {
   "cell_type": "code",
   "execution_count": null,
   "metadata": {
    "pycharm": {
     "name": "#%%\n"
    }
   },
   "outputs": [],
   "source": []
  },
  {
   "cell_type": "code",
   "execution_count": null,
   "metadata": {
    "pycharm": {
     "name": "#%%\n"
    }
   },
   "outputs": [],
   "source": []
  },
  {
   "cell_type": "code",
   "execution_count": null,
   "metadata": {
    "pycharm": {
     "name": "#%%\n"
    }
   },
   "outputs": [],
   "source": []
  }
 ],
 "metadata": {
  "kernelspec": {
   "display_name": "Python 3 (ipykernel)",
   "language": "python",
   "name": "python3"
  },
  "language_info": {
   "codemirror_mode": {
    "name": "ipython",
    "version": 3
   },
   "file_extension": ".py",
   "mimetype": "text/x-python",
   "name": "python",
   "nbconvert_exporter": "python",
   "pygments_lexer": "ipython3",
   "version": "3.8.12"
  }
 },
 "nbformat": 4,
 "nbformat_minor": 4
}