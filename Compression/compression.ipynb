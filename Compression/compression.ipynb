{
 "cells": [
  {
   "attachments": {},
   "cell_type": "markdown",
   "metadata": {},
   "source": [
    "# Signal and Image Processing (SIP_SS23)\n",
    "\n",
    "### Research Group Neuroinformatics, Faculty of Computer Science,\n",
    "### University of Vienna\n",
    "\n",
    "\n",
    "###  Huffman coding\n",
    "\n",
    "Lecturer: Prof. Moritz GROSSE-WENTRUP\n",
    "\n",
    "Tutorial by: Sadiq A. ADEDAYO <sadiq.adedayo@univie.ac.at> <br> \n",
    "$\\quad\\quad\\quad\\quad$ Jakob PRAGER"
   ]
  },
  {
   "cell_type": "code",
   "execution_count": null,
   "metadata": {},
   "outputs": [],
   "source": [
    "import numpy as np\n",
    "from huffman import *"
   ]
  },
  {
   "attachments": {},
   "cell_type": "markdown",
   "metadata": {},
   "source": [
    "Given a string text with charactes each with known prior probabilities. "
   ]
  },
  {
   "cell_type": "code",
   "execution_count": 4,
   "metadata": {},
   "outputs": [],
   "source": [
    "text = 'Fischers Fritz fischt frische Fische.'"
   ]
  },
  {
   "cell_type": "code",
   "execution_count": 5,
   "metadata": {},
   "outputs": [],
   "source": [
    "char_cnt_func = lambda string: dict((char, string.count(char)) for char in set(string))"
   ]
  },
  {
   "cell_type": "code",
   "execution_count": 6,
   "metadata": {},
   "outputs": [],
   "source": [
    "cnt_dict = char_cnt_func(text)"
   ]
  },
  {
   "cell_type": "code",
   "execution_count": 7,
   "metadata": {},
   "outputs": [],
   "source": [
    "n_char = sum(cnt_dict.values())\n",
    "char_prob = {char: cnt_dict[char] / n_char for char in sorted(cnt_dict, key=cnt_dict.get)}"
   ]
  },
  {
   "cell_type": "code",
   "execution_count": 8,
   "metadata": {},
   "outputs": [
    {
     "data": {
      "text/plain": [
       "{'s': '100',\n",
       " 'i': '101',\n",
       " ' ': '010',\n",
       " 'h': '000',\n",
       " 'c': '001',\n",
       " 'e': '1110',\n",
       " 'F': '1111',\n",
       " 'r': '1101',\n",
       " 't': '0110',\n",
       " 'f': '0111',\n",
       " '.': '11000',\n",
       " 'z': '11001'}"
      ]
     },
     "execution_count": 8,
     "metadata": {},
     "output_type": "execute_result"
    }
   ],
   "source": [
    "huffman(char_prob)"
   ]
  }
 ],
 "metadata": {
  "kernelspec": {
   "display_name": "Python 3",
   "language": "python",
   "name": "python3"
  },
  "language_info": {
   "codemirror_mode": {
    "name": "ipython",
    "version": 3
   },
   "file_extension": ".py",
   "mimetype": "text/x-python",
   "name": "python",
   "nbconvert_exporter": "python",
   "pygments_lexer": "ipython3",
   "version": "3.9.13"
  }
 },
 "nbformat": 4,
 "nbformat_minor": 0
}
