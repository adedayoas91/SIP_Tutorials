{
 "cells": [
  {
   "cell_type": "markdown",
   "id": "7a03fdda",
   "metadata": {},
   "source": [
    "# Signal and Image Processing\n",
    "### SS23 Convolution and Discrete Fourier Transform Tutorials"
   ]
  },
  {
   "cell_type": "code",
   "execution_count": 2,
   "id": "7ae4af5a",
   "metadata": {},
   "outputs": [],
   "source": [
    "# imports packages required (Numpy and Matplotlib)\n",
    "\n",
    "import numpy as np\n",
    "from matplotlib import pyplot as plt"
   ]
  },
  {
   "cell_type": "markdown",
   "id": "ae4a99d1",
   "metadata": {},
   "source": [
    "## 1 - Discrete Fourier Transform (DFT)"
   ]
  },
  {
   "cell_type": "markdown",
   "id": "290b3e18",
   "metadata": {},
   "source": [
    "You have learned about the analysis (DFT) and synthesis (iDFT) from the video lectures. We have introduced that DFT allows us to change the basis of a signal from time to frequency domain while iDFT does the reverse. \n",
    "\n",
    "In this exercise, we will implement this and see how the concept works.\n",
    "\n",
    "Recall,\n",
    "\n",
    "Discrete Fourier Transform (Analysis); $$X(k) = \\sum_{n=0}^{N-1} x[n] \\exp \\left( {-j.\\frac{ 2\\pi k}{N}. n} \\right)$$\n",
    "\n",
    "inverse Discrete Fourier Transform (Synthesis); $$x(n) = \\frac{1}{N} \\sum_{k=0}^{N-1} X[k] \\exp \\left( {j.\\frac{ 2\\pi k}{N}. n} \\right)$$"
   ]
  },
  {
   "cell_type": "markdown",
   "id": "70541123",
   "metadata": {},
   "source": [
    "Before we dive into DFT, it is important to understand the conscept of oscilations in a signal\n",
    "\n",
    "Take for instance a sine signal as defined by; $x[n] = A sin\\left( \\frac{2 \\pi k}{N}. n  \\right)$ \n",
    "- where A is the amplitude \n",
    "- k is the frequency of oscilations per second measure in $s^{-1}$ or Hz\n",
    "- N is the signal lenght"
   ]
  },
  {
   "cell_type": "code",
   "execution_count": null,
   "id": "434879ac",
   "metadata": {},
   "outputs": [],
   "source": []
  },
  {
   "cell_type": "code",
   "execution_count": null,
   "id": "75bf41bf",
   "metadata": {},
   "outputs": [],
   "source": [
    "# generate sine signals"
   ]
  },
  {
   "cell_type": "markdown",
   "id": "e22539b3",
   "metadata": {},
   "source": [
    "Here I will provide some informations of the sine wave and define parameters"
   ]
  },
  {
   "cell_type": "code",
   "execution_count": null,
   "id": "bca512e4",
   "metadata": {},
   "outputs": [],
   "source": [
    "# code block to implement the sine signal\n",
    "\n"
   ]
  },
  {
   "cell_type": "code",
   "execution_count": null,
   "id": "cabd4f5d",
   "metadata": {},
   "outputs": [],
   "source": [
    "# plots"
   ]
  },
  {
   "cell_type": "code",
   "execution_count": null,
   "id": "627c790a",
   "metadata": {},
   "outputs": [],
   "source": [
    "# Generate more signals to understand the concept of the frequency of oscilations"
   ]
  },
  {
   "cell_type": "code",
   "execution_count": null,
   "id": "3cae8a1e",
   "metadata": {},
   "outputs": [],
   "source": [
    "# plots"
   ]
  },
  {
   "cell_type": "code",
   "execution_count": null,
   "id": "c4092367",
   "metadata": {},
   "outputs": [],
   "source": []
  },
  {
   "cell_type": "markdown",
   "id": "fb220152",
   "metadata": {},
   "source": [
    "Wrap both DFT and iDFT into functions."
   ]
  },
  {
   "cell_type": "code",
   "execution_count": null,
   "id": "e44a213c",
   "metadata": {},
   "outputs": [],
   "source": [
    "#DFT\n",
    "def DFT(x):\n",
    "    N = len(x)\n",
    "    n = np.arange(0,N)\n",
    "    F = np.exp(-1j*2*np.pi/N*np.outer(n,n))\n",
    "    return np.dot(F,x)\n",
    "\n",
    "#inverse DFT\n",
    "def iDFT(X):\n",
    "    N = len(X)\n",
    "    n = np.arange(0,N)\n",
    "    IF = np.exp(1j*2*np.pi/N*np.outer(n,n))/N\n",
    "    return np.dot(IF,X)"
   ]
  },
  {
   "cell_type": "code",
   "execution_count": null,
   "id": "829a56c0",
   "metadata": {},
   "outputs": [],
   "source": [
    "# application on signals generated above"
   ]
  },
  {
   "cell_type": "code",
   "execution_count": null,
   "id": "438547b8",
   "metadata": {},
   "outputs": [],
   "source": []
  },
  {
   "cell_type": "code",
   "execution_count": null,
   "id": "6fce833b",
   "metadata": {},
   "outputs": [],
   "source": [
    "#plots"
   ]
  },
  {
   "cell_type": "code",
   "execution_count": null,
   "id": "187ffb25",
   "metadata": {},
   "outputs": [],
   "source": []
  },
  {
   "cell_type": "code",
   "execution_count": null,
   "id": "8784041b",
   "metadata": {},
   "outputs": [],
   "source": [
    "#\"\" to be filled \n",
    "\n",
    "# window length (in samples)\n",
    "N = \"\"\n",
    "n = np.arange(0,N)\n",
    "\n",
    "# nr of complete periods within N samples (suppose this signal is 1s long, then k is also the frequency in Hz) \n",
    "k = \"\"\n",
    "\n",
    "# sine signal\n",
    "s1 = \"\""
   ]
  },
  {
   "cell_type": "code",
   "execution_count": null,
   "id": "80b5492b",
   "metadata": {},
   "outputs": [],
   "source": [
    "plt.figure(figsize=(15,5))\n",
    "plt.plot(s1)\n",
    "plt.grid()"
   ]
  },
  {
   "cell_type": "markdown",
   "id": "f1e01ef9",
   "metadata": {},
   "source": [
    "Now generate different signals and combine them"
   ]
  },
  {
   "cell_type": "code",
   "execution_count": null,
   "id": "2dc796a2",
   "metadata": {},
   "outputs": [],
   "source": [
    "#\"\" to be filled \n",
    "\n",
    "# different frequencies (N stays the same)\n",
    "k1 = \"\"\n",
    "k2 = \"\"\n",
    "\n",
    "s2 = \"\" + \"\"\n",
    "\n",
    "plt.figure(figsize=(15,5))\n",
    "plt.plot(s2)\n",
    "plt.grid()"
   ]
  },
  {
   "cell_type": "markdown",
   "id": "fef9a2a7",
   "metadata": {},
   "source": [
    "We now implement a DFT function. Provide the equation for the transformation matrix"
   ]
  },
  {
   "cell_type": "code",
   "execution_count": null,
   "id": "c7adbccb",
   "metadata": {},
   "outputs": [],
   "source": [
    "#\"\" to be filled\n",
    "\n",
    "#DFT\n",
    "def DFT(x):\n",
    "    N = len(x)\n",
    "    n = np.arange(0,N)\n",
    "    F = \"\"\n",
    "    return np.dot(F,x)"
   ]
  },
  {
   "cell_type": "markdown",
   "id": "440d7b24",
   "metadata": {},
   "source": [
    "Apply the DFT to the different signals defined above "
   ]
  },
  {
   "cell_type": "code",
   "execution_count": null,
   "id": "de7f837d",
   "metadata": {},
   "outputs": [],
   "source": [
    "#apply DFT function\n",
    "DFT = DFT(s2)\n",
    "\n",
    "\n",
    "fig, ax = plt.subplots(1,2,figsize=(15,5))\n",
    "ax[0].plot(np.abs(DFT))\n",
    "ax[0].grid()\n",
    "ax[0].set_title('Amplitude')\n",
    "\n",
    "ax[1].plot(np.angle(S))\n",
    "ax[1].grid()\n",
    "ax[1].set_title('Phase')\n",
    "plt.show()"
   ]
  },
  {
   "cell_type": "markdown",
   "id": "8135ea6d",
   "metadata": {},
   "source": [
    "We now implement a iDFT function. Provide the equation for the transformation matrix"
   ]
  },
  {
   "cell_type": "code",
   "execution_count": null,
   "id": "7fb54764",
   "metadata": {},
   "outputs": [],
   "source": [
    "#\"\" to be filled\n",
    "\n",
    "#inverse DFT\n",
    "def iDFT(X):\n",
    "    N = len(X)\n",
    "    n = np.arange(0,N)\n",
    "    IF = \"\"\n",
    "    return np.dot(IF,X)"
   ]
  },
  {
   "cell_type": "markdown",
   "id": "9408876a",
   "metadata": {},
   "source": [
    "Apply the iDFT to the previously computed DFT\n"
   ]
  },
  {
   "cell_type": "code",
   "execution_count": null,
   "id": "70e21bb4",
   "metadata": {},
   "outputs": [],
   "source": [
    "#apply DFT function\n",
    "IDFT = iDFT(DFT)\n",
    "\n",
    "#we remove imaginary artifacts and only take real values\n",
    "IDFT = np.real(IDFT)\n",
    "\n",
    "plt.figure(figsize=(15,5))\n",
    "plt.plot(IDFT)\n",
    "plt.grid()\n",
    "plt.show()\n"
   ]
  },
  {
   "cell_type": "code",
   "execution_count": null,
   "id": "e2177200",
   "metadata": {},
   "outputs": [],
   "source": []
  },
  {
   "cell_type": "code",
   "execution_count": null,
   "id": "0948276c",
   "metadata": {},
   "outputs": [],
   "source": []
  },
  {
   "cell_type": "markdown",
   "id": "e5c5d916",
   "metadata": {},
   "source": [
    "## 2 - Convolution\n",
    "\n",
    "Convolution operation in signal processing expresses the amount of overlap of one signal shifted over another. As notation, we adopt commonly used representations such as `y[t]` as result or output of convolution, `x[t]` as the signal and `h[t]` as impulse response of the system inwhich `x[t]` is fed into.\n",
    "\n",
    "#### In this part, we will only implement linear convolutions of discrete signals as discussed in the lecture.\n",
    "\n",
    "Note: There exist `linear` and `circular` convolutions, but for sake of this tutorial, we will focus on implementing linear convolution. You are encouraged to look up on circular convolution on their own free will.\n",
    "\n",
    "You are also encouraged to use the hints provided to solve the task. Please note, this implementation is not optimized for run time, hence more time efficient implementations exist as that of [np.convolve()](https://numpy.org/doc/stable/reference/generated/numpy.convolve.html) and [scipy.signal.convolve()](https://docs.scipy.org/doc/scipy/reference/generated/scipy.signal.convolve.html)"
   ]
  },
  {
   "cell_type": "markdown",
   "id": "a969f628",
   "metadata": {},
   "source": [
    "$$y[t] = x[t] * h[t] = \\int_{- \\infty}^{\\infty} x[\\tau] . h[t - \\tau] \\,d\\tau $$"
   ]
  },
  {
   "cell_type": "markdown",
   "id": "f12d4ecb",
   "metadata": {},
   "source": [
    "In the following code cell, write a function to compute linear convolution `lin_convolution(x, h)` that takes two inputs; signal `x[t]` and impulse response `h[t]` and computes and return the convolved signal `y[t]`. In this case, we will also only explore the mode where one of the signals slide over the other completely, i.e., `mode = full` in [np.convolve()](https://numpy.org/doc/stable/reference/generated/numpy.convolve.html) implementations.\n",
    "\n",
    "#### You are encouraged to further the impolementation to achieve the other results as in `mode = same` and `mode = valid` as in Numpy"
   ]
  },
  {
   "cell_type": "code",
   "execution_count": 2,
   "id": "2b024c22",
   "metadata": {},
   "outputs": [],
   "source": [
    "def lin_convolution(x, h):\n",
    "    # determine the size of convolution output\n",
    "    N = len(x) + len(h)-1\n",
    "    \n",
    "    # initialize array of zeros for the output signal\n",
    "    y = np.zeros(N)\n",
    "    \n",
    "    # determine number of zeros required to pad both `x[t]` and `h[t]`, i and j respectively\n",
    "    i,j = N - len(x), N - len(h)\n",
    "    \n",
    "    # zero-pad x[t] and h[t] to the same size\n",
    "    x_padded = np.pad(x, (0,i), 'constant')\n",
    "    h_padded = np.pad(h, (0,j), 'constant')\n",
    "\n",
    "    \n",
    "    for n in range(N):\n",
    "        for k in range(N):\n",
    "            if n >= k:\n",
    "                 convoluted[n] += x_padded[n-k]*h_padded[k]"
   ]
  },
  {
   "cell_type": "markdown",
   "id": "3576283d",
   "metadata": {},
   "source": [
    "Next, we will test `lin_convolution(x, h)` with some signals and compare the results with that of numpy implementation.\n",
    "\n",
    "For sake of uniformity, we will take `x[t]` = [0, 1, 2, 1] and `h_[t]` = [2, 2, 1, 1].\n",
    "\n",
    "We would expect our function to return `y[t]` = [2, 6, 5, 5, 4, 1, 1] which is the same as using `np.convolve(x, h, mode = 'full')`. \n",
    "\n",
    "After we confirmed our funtion is working properly, we can then try out other various signals of various lengths."
   ]
  },
  {
   "cell_type": "code",
   "execution_count": 3,
   "id": "f97e1810",
   "metadata": {},
   "outputs": [
    {
     "data": {
      "text/plain": [
       "(array([2, 6, 5, 5, 4, 1, 1]), array([6, 7, 6, 5]))"
      ]
     },
     "execution_count": 3,
     "metadata": {},
     "output_type": "execute_result"
    }
   ],
   "source": [
    "# test cells for the `lin_convolution()`\n",
    "\n",
    "x = [1, 2, 0, 1]\n",
    "h = [2, 2, 1, 1]\n",
    "\n",
    "y = lin_convolution(x, h)  # call the written function here on x and h \n",
    "\n",
    "y_np = np.convolve(x, h, mode = 'full')"
   ]
  },
  {
   "cell_type": "code",
   "execution_count": 1,
   "id": "0cdc687f",
   "metadata": {},
   "outputs": [
    {
     "ename": "NameError",
     "evalue": "name 'plt' is not defined",
     "output_type": "error",
     "traceback": [
      "\u001b[0;31m---------------------------------------------------------------------------\u001b[0m",
      "\u001b[0;31mNameError\u001b[0m                                 Traceback (most recent call last)",
      "\u001b[0;32m/var/folders/my/b625dwwn62x214n4rwpf336c0000gn/T/ipykernel_28947/1352740266.py\u001b[0m in \u001b[0;36m<module>\u001b[0;34m\u001b[0m\n\u001b[1;32m      3\u001b[0m \u001b[0;31m# For adequate visualization of results, we will use the stem plot from matplotlib\u001b[0m\u001b[0;34m\u001b[0m\u001b[0;34m\u001b[0m\u001b[0m\n\u001b[1;32m      4\u001b[0m \u001b[0;34m\u001b[0m\u001b[0m\n\u001b[0;32m----> 5\u001b[0;31m \u001b[0mfig\u001b[0m\u001b[0;34m,\u001b[0m \u001b[0max\u001b[0m \u001b[0;34m=\u001b[0m \u001b[0mplt\u001b[0m\u001b[0;34m.\u001b[0m\u001b[0msubplots\u001b[0m\u001b[0;34m(\u001b[0m\u001b[0;36m1\u001b[0m\u001b[0;34m,\u001b[0m \u001b[0;36m2\u001b[0m\u001b[0;34m,\u001b[0m \u001b[0mfigsize\u001b[0m \u001b[0;34m=\u001b[0m \u001b[0;34m(\u001b[0m\u001b[0;36m8\u001b[0m\u001b[0;34m,\u001b[0m \u001b[0;36m4\u001b[0m\u001b[0;34m)\u001b[0m\u001b[0;34m)\u001b[0m\u001b[0;34m\u001b[0m\u001b[0;34m\u001b[0m\u001b[0m\n\u001b[0m\u001b[1;32m      6\u001b[0m \u001b[0max\u001b[0m\u001b[0;34m[\u001b[0m\u001b[0;36m0\u001b[0m\u001b[0;34m]\u001b[0m\u001b[0;34m.\u001b[0m\u001b[0mstem\u001b[0m\u001b[0;34m(\u001b[0m\u001b[0my\u001b[0m\u001b[0;34m)\u001b[0m\u001b[0;34m\u001b[0m\u001b[0;34m\u001b[0m\u001b[0m\n\u001b[1;32m      7\u001b[0m \u001b[0max\u001b[0m\u001b[0;34m[\u001b[0m\u001b[0;36m0\u001b[0m\u001b[0;34m]\u001b[0m\u001b[0;34m.\u001b[0m\u001b[0mset_title\u001b[0m\u001b[0;34m(\u001b[0m\u001b[0;34m'Implemented linear convolution'\u001b[0m\u001b[0;34m)\u001b[0m\u001b[0;34m\u001b[0m\u001b[0;34m\u001b[0m\u001b[0m\n",
      "\u001b[0;31mNameError\u001b[0m: name 'plt' is not defined"
     ]
    }
   ],
   "source": [
    "# plots\n",
    "\n",
    "# For adequate visualization of results, we will use the stem plot from matplotlib \n",
    "\n",
    "fig, ax = plt.subplots(1, 2, figsize = (8, 4))\n",
    "ax[0].stem(y)\n",
    "ax[0].set_title('Implemented linear convolution')\n",
    "ax[0].set_xlabel('t')\n",
    "ax[0].set_xlabel('y[t]')\n",
    "ax[0].grid()\n",
    "\n",
    "ax[1].stem(y_np)\n",
    "ax[1].set_title('Numpy implementation')\n",
    "ax[1].set_xlabel('t')\n",
    "ax[1].set_xlabel('$y_{np}[t]$')\n",
    "ax[1].grid()"
   ]
  },
  {
   "cell_type": "code",
   "execution_count": null,
   "id": "73d46980",
   "metadata": {},
   "outputs": [],
   "source": [
    "# More tests\n",
    "\n",
    "\n"
   ]
  },
  {
   "cell_type": "markdown",
   "id": "259a2b0d",
   "metadata": {},
   "source": [
    "## Bonus tasks\n",
    "\n",
    "These tasks are given for more hands-on engagement of students. There will be no solutions or grading (i.e., they are only for students to explore for leisure).\n",
    "\n",
    "1. Show that the convolution operation fulfills the following properties\n",
    " - Commutative i.e., $\\quad x[t] * h[t] = h[t] * x[t]$ \n",
    "\n",
    " - Associative i.e., $\\quad (x_{1}[t] * h[t]) * x_(2)[t] = x_{1}[t] * (h[t] * x_{2}[t])$\n",
    " \n",
    " - Derrivative i.e., $\\quad y[t] = x[t] * h[t]$\n",
    " \n",
    " $\\quad\\quad\\quad\\quad\\quad\\quad$ $\\frac{dy[t]}{dt} = \\frac{dx[t]}{dt} * h[t] = \\frac{dh[t]}{dt} * x[t]$\n",
    " \n",
    " \n",
    " 2. Show that convolution in spatial (time) domain is same as convolution in spectral (frequency) domain\n",
    " \n",
    " $$x[t] * h[t] = X(f) * H(f)$$\n",
    " \n",
    " where `x[t]` and `h[t]` and signal `x` and impulse `h` in time domain\n",
    " \n",
    "     and `X[f]` and `H[f]` are the spectral domain of `x` and `h` respectively"
   ]
  },
  {
   "cell_type": "code",
   "execution_count": null,
   "id": "fe2c28bb",
   "metadata": {},
   "outputs": [],
   "source": []
  }
 ],
 "metadata": {
  "kernelspec": {
   "display_name": "Python 3 (ipykernel)",
   "language": "python",
   "name": "python3"
  },
  "language_info": {
   "codemirror_mode": {
    "name": "ipython",
    "version": 3
   },
   "file_extension": ".py",
   "mimetype": "text/x-python",
   "name": "python",
   "nbconvert_exporter": "python",
   "pygments_lexer": "ipython3",
   "version": "3.9.13"
  }
 },
 "nbformat": 4,
 "nbformat_minor": 5
}
